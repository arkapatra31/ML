Data Preprocessing Tools
Importing the libraries
Importing the dataset
Taking care of missing data
Encoding categorical data
Encoding the Independent Variable
Encoding the Dependent Variable
Splitting the dataset into the Training set and Test set
Feature Scaling
"""


import numpy as np
import matplotlib.pyplot as plt
import pandas as pd


## Fetch the Dataset
dataset = pd.read_csv("Data.csv")


# Fetch the features and the labels
## Features are basically inputs or the independent variables
## Label is the output or basically the dependent variable
X = dataset.iloc[:, :-1].values
y = dataset.iloc[:, -1].values


# Manage Missing Data
from sklearn.impute import SimpleImputer
imputer = SimpleImputer()



