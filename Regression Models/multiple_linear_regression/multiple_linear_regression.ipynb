{
 "cells": [
  {
   "cell_type": "markdown",
   "metadata": {},
   "source": [
    "### Multiple Linear Regression"
   ]
  },
  {
   "cell_type": "markdown",
   "metadata": {},
   "source": [
    "<p>Assumptions of Simple Linear Regression</p>\n",
    "<li>Non linear relationship between X and Y</li>\n",
    "<li>Non Homoscedasticity or unequal variance</li>\n",
    "<li>Uneven Multivariate Normality - Normality of Error Distribution</li>\n",
    "<li>Independence - No correlation</li>\n",
    "<li>Lack of Multicolinearity - Predictors are not co-related with one another</li>\n",
    "<li>The Outliner check - This is not an assumption but extra</li>\n",
    "\n",
    "<p>5 methods of building a model</p>\n",
    "<li>All-in</li>\n",
    "<li>Backward Elimination</li>\n",
    "<li>Forward Selection</li>\n",
    "<li>Bidirectional Selection</li>\n",
    "<li>Score Comparision</li>"
   ]
  },
  {
   "cell_type": "code",
   "execution_count": null,
   "metadata": {},
   "outputs": [],
   "source": [
    "# Importing libraries\n",
    "import numpy as np\n",
    "import pandas as pd\n",
    "import matplotlib.pyplot as plt"
   ]
  }
 ],
 "metadata": {
  "kernelspec": {
   "display_name": "ML",
   "language": "python",
   "name": "python3"
  },
  "language_info": {
   "name": "python",
   "version": "3.12.2"
  }
 },
 "nbformat": 4,
 "nbformat_minor": 2
}
