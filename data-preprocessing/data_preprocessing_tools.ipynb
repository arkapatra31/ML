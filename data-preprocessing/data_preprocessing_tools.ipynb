{
 "cells": [
  {
   "cell_type": "markdown",
   "id": "4296b941",
   "metadata": {},
   "source": [
    "### Data Preprocessing Tools\n",
    "<h4>Contents</h6>\n",
    "<li>Importing the libraries</li>\n",
    "<li>Importing the dataset</li>\n",
    "<li>Taking care of missing data</li>\n",
    "<li>Encoding categorical data</li>\n",
    "<li>Encoding the Independent Variable</li>\n",
    "<li>Encoding the Dependent Variable</li>\n",
    "<li>Splitting the dataset into the Training set and Test set</li>\n",
    "<li>Feature Scaling</li>"
   ]
  },
  {
   "cell_type": "code",
   "execution_count": 25,
   "id": "203a0899-4416-4615-b15c-ff928af0f46b",
   "metadata": {},
   "outputs": [],
   "source": [
    "import numpy as np\n",
    "import matplotlib.pyplot as plt\n",
    "import pandas as pd"
   ]
  },
  {
   "cell_type": "code",
   "execution_count": 26,
   "id": "c97dfd00-2c7d-43df-9941-6e8d2998975b",
   "metadata": {},
   "outputs": [],
   "source": [
    "## Fetch the Dataset\n",
    "dataset = pd.read_csv(\"Data.csv\")"
   ]
  },
  {
   "cell_type": "markdown",
   "id": "b809e3d2",
   "metadata": {},
   "source": [
    "### Fetch the features and the labels\n",
    "<p>Features are basically inputs or the independent variables</p>\n",
    "<p>Label is the output or basically the dependent variable</p>"
   ]
  },
  {
   "cell_type": "code",
   "execution_count": 33,
   "id": "47753ffa-70f3-4e33-aa5d-dc278acc5afc",
   "metadata": {},
   "outputs": [
    {
     "data": {
      "text/plain": [
       "(array([['France', 44.0, 72000.0],\n",
       "        ['Spain', 27.0, 48000.0],\n",
       "        ['Germany', 30.0, 54000.0],\n",
       "        ['Spain', 38.0, 61000.0],\n",
       "        ['Germany', 40.0, nan],\n",
       "        ['France', 35.0, 58000.0],\n",
       "        ['Spain', nan, 52000.0],\n",
       "        ['France', 48.0, 79000.0],\n",
       "        ['Germany', 50.0, 83000.0],\n",
       "        ['France', 37.0, 67000.0]], dtype=object),\n",
       " array(['No', 'Yes', 'No', 'No', 'Yes', 'Yes', 'No', 'Yes', 'No', 'Yes'],\n",
       "       dtype=object))"
      ]
     },
     "execution_count": 33,
     "metadata": {},
     "output_type": "execute_result"
    }
   ],
   "source": [
    "X = dataset.iloc[:, :-1].values\n",
    "y = dataset.iloc[:, -1].values\n",
    "\n",
    "X,y"
   ]
  },
  {
   "cell_type": "code",
   "execution_count": 34,
   "id": "4603fa59-a110-4df0-8cfe-ee834857fbbc",
   "metadata": {},
   "outputs": [],
   "source": [
    "# Manage Missing Data\n",
    "from sklearn.impute import SimpleImputer\n",
    "imputer = SimpleImputer(missing_values=np.nan, strategy='mean')"
   ]
  },
  {
   "cell_type": "code",
   "execution_count": 35,
   "id": "52690669-a479-47b8-a346-bed9fbf818b7",
   "metadata": {},
   "outputs": [
    {
     "data": {
      "text/plain": [
       "array([['France', 44.0, 72000.0],\n",
       "       ['Spain', 27.0, 48000.0],\n",
       "       ['Germany', 30.0, 54000.0],\n",
       "       ['Spain', 38.0, 61000.0],\n",
       "       ['Germany', 40.0, 63777.77777777778],\n",
       "       ['France', 35.0, 58000.0],\n",
       "       ['Spain', 38.77777777777778, 52000.0],\n",
       "       ['France', 48.0, 79000.0],\n",
       "       ['Germany', 50.0, 83000.0],\n",
       "       ['France', 37.0, 67000.0]], dtype=object)"
      ]
     },
     "execution_count": 35,
     "metadata": {},
     "output_type": "execute_result"
    }
   ],
   "source": [
    "# Apply the imputer to the dataset\n",
    "imputer.fit(X[:, 1:3])\n",
    "\n",
    "# Replace the missing data with the mean of the column\n",
    "X[:, 1:3] = imputer.transform(X[:, 1:3])\n",
    "X"
   ]
  },
  {
   "cell_type": "markdown",
   "id": "0a5fbf93",
   "metadata": {},
   "source": [
    "### Encode Categorical Data\n",
    "<p>One Hot Encoding converts the column variables into a binary format</p>"
   ]
  },
  {
   "cell_type": "markdown",
   "id": "da2f19b1",
   "metadata": {},
   "source": [
    "#### Encoding the Independent variable (Features)"
   ]
  },
  {
   "cell_type": "code",
   "execution_count": 36,
   "id": "6648b853",
   "metadata": {},
   "outputs": [
    {
     "name": "stdout",
     "output_type": "stream",
     "text": [
      "X=array([[1.0, 0.0, 0.0, 44.0, 72000.0],\n",
      "       [0.0, 0.0, 1.0, 27.0, 48000.0],\n",
      "       [0.0, 1.0, 0.0, 30.0, 54000.0],\n",
      "       [0.0, 0.0, 1.0, 38.0, 61000.0],\n",
      "       [0.0, 1.0, 0.0, 40.0, 63777.77777777778],\n",
      "       [1.0, 0.0, 0.0, 35.0, 58000.0],\n",
      "       [0.0, 0.0, 1.0, 38.77777777777778, 52000.0],\n",
      "       [1.0, 0.0, 0.0, 48.0, 79000.0],\n",
      "       [0.0, 1.0, 0.0, 50.0, 83000.0],\n",
      "       [1.0, 0.0, 0.0, 37.0, 67000.0]], dtype=object)\n",
      "\n"
     ]
    }
   ],
   "source": [
    "from sklearn.compose import ColumnTransformer\n",
    "from sklearn.preprocessing import OneHotEncoder\n",
    "ct = ColumnTransformer(transformers=[('encoder', OneHotEncoder(), [0])], remainder='passthrough')\n",
    "X = np.array(ct.fit_transform(X))\n",
    "print(f\"{X=}\\n\")"
   ]
  },
  {
   "cell_type": "markdown",
   "id": "9843bd32",
   "metadata": {},
   "source": [
    "## Encode Dependent Variable (Labels / Output)"
   ]
  },
  {
   "cell_type": "code",
   "execution_count": 37,
   "id": "f745345d",
   "metadata": {},
   "outputs": [],
   "source": [
    "from sklearn.preprocessing import LabelEncoder\n",
    "le = LabelEncoder()\n",
    "y = le.fit_transform(y)"
   ]
  },
  {
   "cell_type": "markdown",
   "id": "ac66efce",
   "metadata": {},
   "source": [
    "### Splitting the dataset into Training set and Test set"
   ]
  },
  {
   "cell_type": "code",
   "execution_count": 38,
   "id": "6909df67",
   "metadata": {},
   "outputs": [
    {
     "name": "stdout",
     "output_type": "stream",
     "text": [
      "X_train=array([[0.0, 0.0, 1.0, 38.77777777777778, 52000.0],\n",
      "       [0.0, 1.0, 0.0, 40.0, 63777.77777777778],\n",
      "       [1.0, 0.0, 0.0, 44.0, 72000.0],\n",
      "       [0.0, 0.0, 1.0, 38.0, 61000.0],\n",
      "       [0.0, 0.0, 1.0, 27.0, 48000.0],\n",
      "       [1.0, 0.0, 0.0, 48.0, 79000.0],\n",
      "       [0.0, 1.0, 0.0, 50.0, 83000.0],\n",
      "       [1.0, 0.0, 0.0, 35.0, 58000.0]], dtype=object)\n",
      "\n",
      "X_test=array([[0.0, 1.0, 0.0, 30.0, 54000.0],\n",
      "       [1.0, 0.0, 0.0, 37.0, 67000.0]], dtype=object)\n",
      "\n",
      "y_train=array([0, 1, 0, 0, 1, 1, 0, 1])\n",
      "\n",
      "y_test=array([0, 1])\n",
      "\n"
     ]
    }
   ],
   "source": [
    "from sklearn.model_selection import train_test_split\n",
    "X_train, X_test, y_train, y_test = train_test_split(X, y, test_size=0.2, random_state=1)\n",
    "print(f\"{X_train=}\\n\")\n",
    "print(f\"{X_test=}\\n\")\n",
    "print(f\"{y_train=}\\n\")\n",
    "print(f\"{y_test=}\\n\")"
   ]
  },
  {
   "cell_type": "markdown",
   "id": "04457234",
   "metadata": {},
   "source": [
    "## Feature Scaling"
   ]
  },
  {
   "cell_type": "code",
   "execution_count": 39,
   "id": "ae592b06",
   "metadata": {},
   "outputs": [],
   "source": [
    "from sklearn.preprocessing import StandardScaler\n",
    "sc = StandardScaler()\n",
    "\n",
    "# fit_transform on training set to compute mean and standard deviation of the features and applied to training set\n",
    "X_train[:, 3:] = sc.fit_transform(X_train[:, 3:])\n",
    "# transform on test set to apply the same stats to test set without new computation and data leakage\n",
    "X_test[:, 3:] = sc.transform(X_test[:, 3:])"
   ]
  },
  {
   "cell_type": "code",
   "execution_count": 41,
   "id": "265bb23c",
   "metadata": {},
   "outputs": [
    {
     "name": "stdout",
     "output_type": "stream",
     "text": [
      "X_train=array([[0.0, 0.0, 1.0, -0.19159184384578545, -1.0781259408412425],\n",
      "       [0.0, 1.0, 0.0, -0.014117293757057777, -0.07013167641635372],\n",
      "       [1.0, 0.0, 0.0, 0.566708506533324, 0.633562432710455],\n",
      "       [0.0, 0.0, 1.0, -0.30453019390224867, -0.30786617274297867],\n",
      "       [0.0, 0.0, 1.0, -1.9018011447007988, -1.420463615551582],\n",
      "       [1.0, 0.0, 0.0, 1.1475343068237058, 1.232653363453549],\n",
      "       [0.0, 1.0, 0.0, 1.4379472069688968, 1.5749910381638885],\n",
      "       [1.0, 0.0, 0.0, -0.7401495441200351, -0.5646194287757332]],\n",
      "      dtype=object)\n",
      "\n",
      "X_test=array([[0.0, 1.0, 0.0, -1.4661817944830124, -0.9069571034860727],\n",
      "       [1.0, 0.0, 0.0, -0.44973664397484414, 0.2056403393225306]],\n",
      "      dtype=object)\n",
      "\n"
     ]
    }
   ],
   "source": [
    "print(f\"{X_train=}\\n\")\n",
    "print(f\"{X_test=}\\n\")"
   ]
  }
 ],
 "metadata": {
  "kernelspec": {
   "display_name": "ML",
   "language": "python",
   "name": "python3"
  },
  "language_info": {
   "codemirror_mode": {
    "name": "ipython",
    "version": 3
   },
   "file_extension": ".py",
   "mimetype": "text/x-python",
   "name": "python",
   "nbconvert_exporter": "python",
   "pygments_lexer": "ipython3",
   "version": "3.12.2"
  }
 },
 "nbformat": 4,
 "nbformat_minor": 5
}
